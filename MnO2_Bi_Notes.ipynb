{
 "cells": [
  {
   "cell_type": "markdown",
   "source": [
    "#TODO\n",
    "\n",
    "#EDAX Stuff\n",
    "-Identify SOP for Imaging\n",
    "-Magnifications\n",
    "-Comparisons for EDS map spectras\n",
    "-Export procedures\n",
    "-Autosizing for Bi, Mn, oxide regions\n",
    "-Identify color scheme that looks good for contrast on EDS\n"
   ],
   "metadata": {
    "collapsed": false
   }
  }
 ],
 "metadata": {
  "kernelspec": {
   "display_name": "Python 3",
   "language": "python",
   "name": "python3"
  },
  "language_info": {
   "codemirror_mode": {
    "name": "ipython",
    "version": 2
   },
   "file_extension": ".py",
   "mimetype": "text/x-python",
   "name": "python",
   "nbconvert_exporter": "python",
   "pygments_lexer": "ipython2",
   "version": "2.7.6"
  }
 },
 "nbformat": 4,
 "nbformat_minor": 0
}
