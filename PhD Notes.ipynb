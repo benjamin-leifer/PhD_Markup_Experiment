{
 "cells": [
  {
   "cell_type": "code",
   "execution_count": 1,
   "metadata": {
    "collapsed": true
   },
   "outputs": [],
   "source": []
  },
  {
   "cell_type": "markdown",
   "source": [
    "# This is a level 1 heading\n",
    "\n",
    "## This is a level 2 heading\n",
    "\n",
    "This is some plain text that forms a paragraph. Add emphasis via **bold** and __bold__, or *italic* and _italic_.\n",
    "\n",
    "Paragraphs must be separated by an empty line.\n",
    "\n",
    "* Sometimes we want to include lists.\n",
    "* Which can be bulleted using asterisks.\n",
    "\n",
    "1. Lists can also be numbered.\n",
    "2. If we want an ordered list.\n",
    "\n",
    "[It is possible to include hyperlinks](https://www.example.com)\n",
    "\n",
    "Inline code uses single backticks: foo(), and code blocks use triple backticks:\n",
    "```\n",
    "bar()\n",
    "```\n",
    "Or can be indented by 4 spaces:\n",
    "\n",
    "    foo()\n",
    "\n",
    "And finally, adding images is easy: ![Alt text](https://www.example.com/image.jpg)"
   ],
   "metadata": {
    "collapsed": false
   }
  },
  {
   "cell_type": "markdown",
   "source": [
    "### Zn-Ion Battery Development for Lincoln Labs\n",
    "\n",
    "## Introduction\n",
    "\n",
    "From: Gallaway Doc Zn-Ion fiber development 4-27-2023.docx\n",
    "\"\n",
    "At Northeastern University, work in year 1 has focused on two thrusts. The first is electrochemical analysis of Li-ion cells and materials provided by MIT Lincoln Lab (MITLL). The second is development of a resilient Zn-ion chemistry for implementation in fiber batteries. The Zn-ion system was chosen because unlike Li, Zn is generally atmospherically stable and moisture tolerant. This obviates the need to hermetically seal the fiber battery. The downside to this approach is that the Zn-ion battery chemistry is relatively undeveloped and not found in any commercial products.\n",
    "\n",
    "Our approach to Zn-ion chemistry development has been to develop electrolyte and cathode materials that are compatible with the draw tower process, and which can be integrated into a full cell. The electrolyte is a gel composed of EC:PC:PVDF and a Zn salt. The cathode is based on MnO2. The theoretical electrochemical reactions are:\n",
    "\n",
    "Zn  ⇄  Zn2+ + 2 e-\t[1]\n",
    "2 MnO2 + Zn2+ + 2 e-  ⇄  2 Zn0.5MnO2\t[2]\n",
    "\n",
    "This gives a theoretical cell reaction of:\n",
    "\n",
    "Zn + 2 MnO2  ⇄  2 Zn0.5MnO2\t[3]\n",
    "\n",
    "This cell will have a theoretical voltage of approximately 1.5 V. A requirement for this cell is that half-reactions [1] and [2] both show good reversibility. Another requirement is that all cell components are compatible, and that no material or interface introduces an unacceptable resistance into the cell, making the cell reaction [3] reversible to the desired number of cycles. The cathode material MnO2 exists in many polymorphic states, some of which are available commercially and some of which are specialty materials. We have begun with commercial material 𝛾-MnO2, but cathode active material design is a topic of future work (see below).\n",
    "\"\n",
    "\n"
   ],
   "metadata": {
    "collapsed": false
   }
  },
  {
   "cell_type": "code",
   "execution_count": null,
   "outputs": [],
   "source": [],
   "metadata": {
    "collapsed": false
   }
  }
 ],
 "metadata": {
  "kernelspec": {
   "display_name": "Python 3",
   "language": "python",
   "name": "python3"
  },
  "language_info": {
   "codemirror_mode": {
    "name": "ipython",
    "version": 2
   },
   "file_extension": ".py",
   "mimetype": "text/x-python",
   "name": "python",
   "nbconvert_exporter": "python",
   "pygments_lexer": "ipython2",
   "version": "2.7.6"
  }
 },
 "nbformat": 4,
 "nbformat_minor": 0
}
