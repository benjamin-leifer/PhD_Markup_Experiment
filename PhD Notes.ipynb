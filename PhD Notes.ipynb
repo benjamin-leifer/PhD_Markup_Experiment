{
 "cells": [
  {
   "cell_type": "code",
   "execution_count": 1,
   "metadata": {
    "collapsed": true
   },
   "outputs": [],
   "source": []
  },
  {
   "cell_type": "markdown",
   "source": [
    "### Zn-Ion Battery Development for Lincoln Labs\n",
    "\n",
    "## Introduction\n",
    "\n",
    "From: Gallaway Doc Zn-Ion fiber development 4-27-2023.docx\n",
    "\"\n",
    "At Northeastern University, work in year 1 has focused on two thrusts. The first is electrochemical analysis of Li-ion cells and materials provided by MIT Lincoln Lab (MITLL). The second is development of a resilient Zn-ion chemistry for implementation in fiber batteries. The Zn-ion system was chosen because unlike Li, Zn is generally atmospherically stable and moisture tolerant. This obviates the need to hermetically seal the fiber battery. The downside to this approach is that the Zn-ion battery chemistry is relatively undeveloped and not found in any commercial products.\n",
    "\n",
    "Our approach to Zn-ion chemistry development has been to develop electrolyte and cathode materials that are compatible with the draw tower process, and which can be integrated into a full cell. The electrolyte is a gel composed of EC:PC:PVDF and a Zn salt. The cathode is based on MnO2. The theoretical electrochemical reactions are:\n",
    "\n",
    "Zn  ⇄  Zn2+ + 2 e-\t[1]\n",
    "2 MnO2 + Zn2+ + 2 e-  ⇄  2 Zn0.5MnO2\t[2]\n",
    "\n",
    "This gives a theoretical cell reaction of:\n",
    "\n",
    "Zn + 2 MnO2  ⇄  2 Zn0.5MnO2\t[3]\n",
    "\n",
    "This cell will have a theoretical voltage of approximately 1.5 V. A requirement for this cell is that half-reactions [1] and [2] both show good reversibility. Another requirement is that all cell components are compatible, and that no material or interface introduces an unacceptable resistance into the cell, making the cell reaction [3] reversible to the desired number of cycles. The cathode material MnO2 exists in many polymorphic states, some of which are available commercially and some of which are specialty materials. We have begun with commercial material 𝛾-MnO2, but cathode active material design is a topic of future work (see below).\n",
    "\"\n",
    "\n"
   ],
   "metadata": {
    "collapsed": false
   }
  },
  {
   "cell_type": "markdown",
   "source": [
    "## Zn-Ion Battery Development for Lincoln Labs Call Notes - 5/2\n",
    "\n",
    "Check how to confirm MW of PVDFs\n",
    "\n",
    "What's the contribution of gas entrapment in the electrolyte to GPE conductivity?\n",
    "\n",
    "TODO: Vacuum Pack GPE in ball jar and ship to Mike (~1 inch diameter) [I will help AMS with this]\n",
    "\n",
    "Mike Question -> voltage calculation on AMS graph?\n",
    "\n",
    "Make thin version of GPE-> 100-200 um thick, currently shim dependant [the GPE draw down in the thermal draw is .15 mm]\n",
    "TODO: Check Ben Howell Procedure on heated calendar of GPE\n",
    "\n",
    "Questions on Conductive Polyethylene:\n",
    "    - Possible to remove this layer?\n",
    "    - Possible to put aluminum/copper wires directly in the anode/cathode?\n",
    "Mike to write up white paper for Li -> need <10 cycles of performance"
   ],
   "metadata": {
    "collapsed": false
   }
  },
  {
   "cell_type": "markdown",
   "source": [
    "## Gell Polymer Electrolyte Synthesis Notes\n",
    "\n",
    "EC/PC -> 1:1 by mas s made in large batch ahead of time\n",
    "\n",
    "Equipment Needed in Glove Box:\n",
    "    - 100 mL beaker\n",
    "    -TODO - Buy Glassware for Glove Box\n",
    "    -TODO - Buy Stir Bar for Glove Box\n",
    "\n",
    "Two PDVF grades in Use:\n",
    "    - 1810\n",
    "    - LBG\n",
    "\n",
    "Zn-TSFI: Store under argon, moisture sensitive\n",
    "Zn Triflate: Store under argon, hygroscopic\n",
    "\n",
    "Procedure:\n",
    "1. Weigh out 2g EC/PC premix in 100 mL beaker\n",
    "2. Weigh out Xg Zn salt in small weigh boat\n",
    "    - Zn TSFI is fluffy compared to Zn Triflate, so it is difficult to weigh out\n",
    "3. Add Zn salt to EC/PC premix\n",
    "4. Weigh out Xg 1810 PVDF in small weigh boat, add to beaker\n",
    "5. Weight out Xg LBG PVDF in small weigh boat, add to beaker\n",
    "    - Generally weigh out more than neccesary, as some will be lost in transfer (very staticky)\n",
    "6. Stir mixture with stir bar until homogenous @125 RPM\n",
    "7. Heat mixture to 75C (this is from Zn Triflate Expt) for 10 min\n",
    "    - TODO - Modify this procedure for Zn TSFI\n",
    "8. Remove from heat, vacuum degas for 5 minutes in small antechamber\n",
    "    - (in Zn-Triflate expt, we did this twice for 5 min each, afterwards the mixture was solidifies. For Zn-TSFI, it did not solidify after 1x 5 min degas)\n",
    "        - TODO - Modify this procedure for Zn TSFI\n",
    "\n",
    "\n",
    "#Blocking Cell GPE notes:\n",
    "Bottom cap -> .5mm spacer -> GPE -> .5mm spacer -> spring -> Top Cap\n",
    "Press to ~9.97 to seal"
   ],
   "metadata": {
    "collapsed": false
   }
  }
 ],
 "metadata": {
  "kernelspec": {
   "display_name": "Python 3",
   "language": "python",
   "name": "python3"
  },
  "language_info": {
   "codemirror_mode": {
    "name": "ipython",
    "version": 2
   },
   "file_extension": ".py",
   "mimetype": "text/x-python",
   "name": "python",
   "nbconvert_exporter": "python",
   "pygments_lexer": "ipython2",
   "version": "2.7.6"
  }
 },
 "nbformat": 4,
 "nbformat_minor": 0
}
