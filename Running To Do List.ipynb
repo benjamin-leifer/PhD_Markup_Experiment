{
 "cells": [
  {
   "cell_type": "markdown",
   "source": [
    "##Running To Do List\n",
    "\n",
    "#2023-05-03\n",
    "\n",
    "1. Hazardous Waste Training\n",
    "2. LL project Training w/ AMS\n",
    "3. Radiation Safety Training (for SEM use at KRI)\n",
    "4. Li-Ion Cell Making\n",
    "    -Cut out foils\n",
    "    -Cut out separators and dry overnight\n",
    "    -Plan out cell making testing regime\n",
    "        -Faster Cycling routine\n",
    "        -DOE design\n",
    "5. Brookhaven Prep\n",
    "    -Finish BNL Account Setup\n",
    "    -Tic Tac box and W-Cell training with Eric\n",
    "6. Paper reading\n",
    "    -Set up citations Manager in Zotero\n",
    "7. Chem. Eng. Societies\n",
    "    -Join ECS\n",
    "    -Join MRS\n",
    "    -Join ACS\n",
    "8. Pine Research Webinar Videos\n",
    "    -Sign up for Youtube Channel, download all webinars"
   ],
   "metadata": {
    "collapsed": false
   }
  },
  {
   "cell_type": "code",
   "execution_count": null,
   "outputs": [],
   "source": [],
   "metadata": {
    "collapsed": false
   }
  }
 ],
 "metadata": {
  "kernelspec": {
   "display_name": "Python 3",
   "language": "python",
   "name": "python3"
  },
  "language_info": {
   "codemirror_mode": {
    "name": "ipython",
    "version": 2
   },
   "file_extension": ".py",
   "mimetype": "text/x-python",
   "name": "python",
   "nbconvert_exporter": "python",
   "pygments_lexer": "ipython2",
   "version": "2.7.6"
  }
 },
 "nbformat": 4,
 "nbformat_minor": 0
}
