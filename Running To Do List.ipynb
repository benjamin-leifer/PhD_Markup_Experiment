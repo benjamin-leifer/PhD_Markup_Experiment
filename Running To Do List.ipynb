{
 "cells": [
  {
   "cell_type": "markdown",
   "source": [
    "##Running To Do List<br>\n",
    "\n",
    "#2023-05-03<br>\n",
    "\n",
    "1. Hazardous Waste Training<br>\n",
    "2. LL project Training w/ AMS<br>\n",
    "3. Radiation Safety Training (for SEM use at KRI)<br>\n",
    "4. Li-Ion Cell Making<br>\n",
    "    -Cut out foils<br>\n",
    "    -Cut out separators and dry overnight<br>\n",
    "    -Plan out cell making testing regime<br>\n",
    "        -Faster Cycling routine<br>\n",
    "        -DOE design<br>\n",
    "5. Brookhaven Prep<br>\n",
    "    -Finish BNL Account Setup<br>\n",
    "    -Tic Tac box and W-Cell training with Eric<br>\n",
    "6. Paper reading<br>\n",
    "    -Set up citations Manager in Zotero<br>\n",
    "7. Chem. Eng. Societies<br>\n",
    "    -Join ECS<br>\n",
    "    -Join MRS<br>\n",
    "    -Join ACS<br>\n",
    "8. Pine Research Webinar Videos<br>\n",
    "    -Sign up for Youtube Channel, download all webinars (Need Youtube Premium?)<br>"
   ],
   "metadata": {
    "collapsed": false
   }
  },
  {
   "cell_type": "code",
   "execution_count": null,
   "outputs": [],
   "source": [],
   "metadata": {
    "collapsed": false
   }
  }
 ],
 "metadata": {
  "kernelspec": {
   "display_name": "Python 3",
   "language": "python",
   "name": "python3"
  },
  "language_info": {
   "codemirror_mode": {
    "name": "ipython",
    "version": 2
   },
   "file_extension": ".py",
   "mimetype": "text/x-python",
   "name": "python",
   "nbconvert_exporter": "python",
   "pygments_lexer": "ipython2",
   "version": "2.7.6"
  }
 },
 "nbformat": 4,
 "nbformat_minor": 0
}
