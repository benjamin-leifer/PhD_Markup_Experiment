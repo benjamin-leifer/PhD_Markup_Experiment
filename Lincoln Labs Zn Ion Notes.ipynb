{
 "cells": [
  {
   "cell_type": "markdown",
   "source": [
    "#Notes for LL Zn-Ion Project - 5/9\n",
    "\n",
    "Zn-TSFI is expensive\n",
    "\n",
    "Mike ordered 5g of Zn-TSFI\n",
    "\n",
    "Alyssa's Update -\n",
    "Finished Zn TSFI matrix - 0.5M Zn-TSFI is best conductivity at 1.8e-4 S/cm\n",
    "\n",
    "Alyssa or I to mail Zn-TSFI to Mike for testing (repeat conductivity test)\n",
    "\n",
    "Alyssa sands down Zn wire to get oxide off - entirely possible that electrolyte removes Zn oxide layer anyways - testing to confirm performance impact\n",
    "\n",
    "Standardize test for flammability, to test later (maybe)\n",
    "\n",
    "Table of Salt vs Conductivity is 1/3-1/4 of a paper?\n",
    "\n",
    "Get a voltage!!\n",
    "\n",
    "EMD cathodes - w/o salt for now, then test with added salt\n",
    "\n",
    "Li-Ion draw done by Mike\n",
    "\n",
    "Typo in MIT paper - thought it was C/5, but confirmed it was 5C, increasing initial performance (?)\n",
    "\n",
    "Short term - Zn that is sort of shelf stable, but can be discharged once.\n",
    "\n",
    "Mike to replicate Max Ulbert's thesis - likely plating alpha MnO2, though possible that it was gamma MnO2 (done at High temp). Reported by Max Ulbert that it is gamma MnO2 (EMD). Mike to send\n",
    "\n",
    "45min for presentation, virtual presentation by Josh\n",
    "\n",
    "Mike to plate substrate, find out the structure of the plated material, using TEM. Max did EDS, giving MnO2 composition\n",
    "\n",
    "MnO2 cathodes - will try this week (5/8) without salt in cathode, then make with salt next week (5/15).\n",
    "\n",
    "Ambient humidity has been a challenge this year to draw new fibers for Mike.\n",
    "\n",
    "Mike hopping off - Internal strategy meeting (Nevermind, immediately shifted to Alyssa's solid state work)"
   ],
   "metadata": {
    "collapsed": false
   }
  }
 ],
 "metadata": {
  "kernelspec": {
   "display_name": "Python 3",
   "language": "python",
   "name": "python3"
  },
  "language_info": {
   "codemirror_mode": {
    "name": "ipython",
    "version": 2
   },
   "file_extension": ".py",
   "mimetype": "text/x-python",
   "name": "python",
   "nbconvert_exporter": "python",
   "pygments_lexer": "ipython2",
   "version": "2.7.6"
  }
 },
 "nbformat": 4,
 "nbformat_minor": 0
}
